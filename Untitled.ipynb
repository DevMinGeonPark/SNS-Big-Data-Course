{
 "cells": [
  {
   "cell_type": "code",
   "execution_count": 39,
   "id": "eebb4610",
   "metadata": {
    "scrolled": false
   },
   "outputs": [],
   "source": [
    "from bs4 import BeautifulSoup\n",
    "import requests\n",
    "\n",
    "\n",
    "search_word = '동서대학교'\n",
    "url = f'https://search.naver.com/search.naver?query={search_word}'\n",
    "response = requests.get(url)\n",
    "soup = BeautifulSoup(response.text, 'html.parser') "
   ]
  },
  {
   "cell_type": "code",
   "execution_count": 30,
   "id": "7c204def",
   "metadata": {},
   "outputs": [],
   "source": [
    "query = soup.find_all(\"a\",text=\"동서대학교\")"
   ]
  },
  {
   "cell_type": "code",
   "execution_count": 37,
   "id": "b785996e",
   "metadata": {},
   "outputs": [
    {
     "name": "stdout",
     "output_type": "stream",
     "text": [
      "http://www.dongseo.ac.kr/\n"
     ]
    }
   ],
   "source": [
    "print(query[0].get('href'))"
   ]
  }
 ],
 "metadata": {
  "kernelspec": {
   "display_name": "Python 3 (ipykernel)",
   "language": "python",
   "name": "python3"
  },
  "language_info": {
   "codemirror_mode": {
    "name": "ipython",
    "version": 3
   },
   "file_extension": ".py",
   "mimetype": "text/x-python",
   "name": "python",
   "nbconvert_exporter": "python",
   "pygments_lexer": "ipython3",
   "version": "3.9.13"
  }
 },
 "nbformat": 4,
 "nbformat_minor": 5
}
